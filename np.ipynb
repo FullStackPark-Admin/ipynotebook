import numpy as np

lista = [1,2,3]

np_arr = np.array(lista)

np_arr
